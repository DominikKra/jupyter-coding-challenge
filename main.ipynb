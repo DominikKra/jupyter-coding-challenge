{
 "cells": [
  {
   "cell_type": "code",
   "execution_count": 1,
   "id": "f8691258",
   "metadata": {},
   "outputs": [],
   "source": [
    "import pandas as pd\n",
    "import numpy as np\n",
    "import matplotlib.pyplot as plt"
   ]
  },
  {
   "cell_type": "markdown",
   "id": "01d4bca5",
   "metadata": {},
   "source": [
    "## Overview"
   ]
  },
  {
   "cell_type": "code",
   "execution_count": 2,
   "id": "228d4c0f",
   "metadata": {},
   "outputs": [
    {
     "data": {
      "text/html": [
       "<div>\n",
       "<style scoped>\n",
       "    .dataframe tbody tr th:only-of-type {\n",
       "        vertical-align: middle;\n",
       "    }\n",
       "\n",
       "    .dataframe tbody tr th {\n",
       "        vertical-align: top;\n",
       "    }\n",
       "\n",
       "    .dataframe thead th {\n",
       "        text-align: right;\n",
       "    }\n",
       "</style>\n",
       "<table border=\"1\" class=\"dataframe\">\n",
       "  <thead>\n",
       "    <tr style=\"text-align: right;\">\n",
       "      <th></th>\n",
       "      <th>id</th>\n",
       "      <th>originalId</th>\n",
       "      <th>talentId</th>\n",
       "      <th>talentName</th>\n",
       "      <th>talentGrade</th>\n",
       "      <th>bookingGrade</th>\n",
       "      <th>operatingUnit</th>\n",
       "      <th>officeCity</th>\n",
       "      <th>officePostalCode</th>\n",
       "      <th>jobManagerName</th>\n",
       "      <th>jobManagerId</th>\n",
       "      <th>totalHours</th>\n",
       "      <th>startDate</th>\n",
       "      <th>endDate</th>\n",
       "      <th>clientName</th>\n",
       "      <th>clientId</th>\n",
       "      <th>industry</th>\n",
       "      <th>isUnassigned</th>\n",
       "      <th>requiredSkills</th>\n",
       "      <th>optionalSkills</th>\n",
       "    </tr>\n",
       "  </thead>\n",
       "  <tbody>\n",
       "    <tr>\n",
       "      <th>9995</th>\n",
       "      <td>9996</td>\n",
       "      <td>bbaa10a3</td>\n",
       "      <td>tln_7350</td>\n",
       "      <td>Martina Dippel</td>\n",
       "      <td>Manager</td>\n",
       "      <td></td>\n",
       "      <td>Operating Unit 8</td>\n",
       "      <td>Altötting</td>\n",
       "      <td>42828</td>\n",
       "      <td>Ullrich Renner</td>\n",
       "      <td>tln_9067</td>\n",
       "      <td>32</td>\n",
       "      <td>09/24/2022 07:50 PM</td>\n",
       "      <td>09/28/2022 07:50 PM</td>\n",
       "      <td>Rust</td>\n",
       "      <td>cl_100</td>\n",
       "      <td>Film</td>\n",
       "      <td>False</td>\n",
       "      <td>[{'name': 'TypeScript', 'category': 'Coding La...</td>\n",
       "      <td>[{'name': 'C++', 'category': 'Coding Language'}]</td>\n",
       "    </tr>\n",
       "    <tr>\n",
       "      <th>9996</th>\n",
       "      <td>9997</td>\n",
       "      <td>45500dca</td>\n",
       "      <td>tln_7793</td>\n",
       "      <td>Arnim Barkholz-Austermühle</td>\n",
       "      <td>Intern</td>\n",
       "      <td></td>\n",
       "      <td>Operating Unit 6</td>\n",
       "      <td>Rochlitz</td>\n",
       "      <td>93218</td>\n",
       "      <td>Gunda Carsten</td>\n",
       "      <td>tln_9112</td>\n",
       "      <td>36</td>\n",
       "      <td>12/23/2022 11:35 AM</td>\n",
       "      <td>12/27/2022 11:35 PM</td>\n",
       "      <td>Rust</td>\n",
       "      <td>cl_100</td>\n",
       "      <td>Film</td>\n",
       "      <td>False</td>\n",
       "      <td>[{'name': 'English', 'category': 'Language'}, ...</td>\n",
       "      <td>[{'name': 'C++', 'category': 'Coding Language'}]</td>\n",
       "    </tr>\n",
       "    <tr>\n",
       "      <th>9997</th>\n",
       "      <td>9998</td>\n",
       "      <td>55361b66</td>\n",
       "      <td></td>\n",
       "      <td></td>\n",
       "      <td></td>\n",
       "      <td>Associate</td>\n",
       "      <td>Operating Unit 9</td>\n",
       "      <td>Ravensburg</td>\n",
       "      <td>96235</td>\n",
       "      <td>Dipl.-Ing. Bianca Rust MBA.</td>\n",
       "      <td>tln_7613</td>\n",
       "      <td>26</td>\n",
       "      <td>06/05/2022 08:29 AM</td>\n",
       "      <td>06/08/2022 02:29 PM</td>\n",
       "      <td>Rust</td>\n",
       "      <td>cl_100</td>\n",
       "      <td>Film</td>\n",
       "      <td>True</td>\n",
       "      <td>[{'name': 'R', 'category': 'Coding Language'}]</td>\n",
       "      <td>[{'name': 'English', 'category': 'Language'}]</td>\n",
       "    </tr>\n",
       "    <tr>\n",
       "      <th>9998</th>\n",
       "      <td>9999</td>\n",
       "      <td>a90fecb2</td>\n",
       "      <td></td>\n",
       "      <td></td>\n",
       "      <td></td>\n",
       "      <td>Senior Manager</td>\n",
       "      <td>Operating Unit 3</td>\n",
       "      <td>Saarlouis</td>\n",
       "      <td>23579</td>\n",
       "      <td>Prof. Yasemin Hänel</td>\n",
       "      <td>tln_5069</td>\n",
       "      <td>29</td>\n",
       "      <td>11/21/2022 05:23 AM</td>\n",
       "      <td>11/24/2022 08:23 PM</td>\n",
       "      <td>Rust</td>\n",
       "      <td>cl_100</td>\n",
       "      <td>Film</td>\n",
       "      <td>True</td>\n",
       "      <td>[{'name': 'Python', 'category': 'Coding Langua...</td>\n",
       "      <td>[{'name': 'Scala', 'category': 'Coding Languag...</td>\n",
       "    </tr>\n",
       "    <tr>\n",
       "      <th>9999</th>\n",
       "      <td>10000</td>\n",
       "      <td>fd5b4f18</td>\n",
       "      <td></td>\n",
       "      <td></td>\n",
       "      <td></td>\n",
       "      <td>Associate</td>\n",
       "      <td>Operating Unit 7</td>\n",
       "      <td>Meißen</td>\n",
       "      <td>53443</td>\n",
       "      <td>Sergej Matthäi</td>\n",
       "      <td>tln_9782</td>\n",
       "      <td>25</td>\n",
       "      <td>05/26/2022 12:12 AM</td>\n",
       "      <td>05/29/2022 03:12 AM</td>\n",
       "      <td>Rust</td>\n",
       "      <td>cl_100</td>\n",
       "      <td>Film</td>\n",
       "      <td>True</td>\n",
       "      <td>[]</td>\n",
       "      <td>[{'name': 'R', 'category': 'Coding Language'}]</td>\n",
       "    </tr>\n",
       "  </tbody>\n",
       "</table>\n",
       "</div>"
      ],
      "text/plain": [
       "         id originalId  talentId                  talentName talentGrade  \\\n",
       "9995   9996   bbaa10a3  tln_7350              Martina Dippel     Manager   \n",
       "9996   9997   45500dca  tln_7793  Arnim Barkholz-Austermühle      Intern   \n",
       "9997   9998   55361b66                                                     \n",
       "9998   9999   a90fecb2                                                     \n",
       "9999  10000   fd5b4f18                                                     \n",
       "\n",
       "        bookingGrade     operatingUnit  officeCity  officePostalCode  \\\n",
       "9995                  Operating Unit 8   Altötting             42828   \n",
       "9996                  Operating Unit 6    Rochlitz             93218   \n",
       "9997       Associate  Operating Unit 9  Ravensburg             96235   \n",
       "9998  Senior Manager  Operating Unit 3   Saarlouis             23579   \n",
       "9999       Associate  Operating Unit 7      Meißen             53443   \n",
       "\n",
       "                   jobManagerName jobManagerId  totalHours  \\\n",
       "9995               Ullrich Renner     tln_9067          32   \n",
       "9996                Gunda Carsten     tln_9112          36   \n",
       "9997  Dipl.-Ing. Bianca Rust MBA.     tln_7613          26   \n",
       "9998          Prof. Yasemin Hänel     tln_5069          29   \n",
       "9999               Sergej Matthäi     tln_9782          25   \n",
       "\n",
       "                startDate              endDate clientName clientId industry  \\\n",
       "9995  09/24/2022 07:50 PM  09/28/2022 07:50 PM       Rust   cl_100     Film   \n",
       "9996  12/23/2022 11:35 AM  12/27/2022 11:35 PM       Rust   cl_100     Film   \n",
       "9997  06/05/2022 08:29 AM  06/08/2022 02:29 PM       Rust   cl_100     Film   \n",
       "9998  11/21/2022 05:23 AM  11/24/2022 08:23 PM       Rust   cl_100     Film   \n",
       "9999  05/26/2022 12:12 AM  05/29/2022 03:12 AM       Rust   cl_100     Film   \n",
       "\n",
       "      isUnassigned                                     requiredSkills  \\\n",
       "9995         False  [{'name': 'TypeScript', 'category': 'Coding La...   \n",
       "9996         False  [{'name': 'English', 'category': 'Language'}, ...   \n",
       "9997          True     [{'name': 'R', 'category': 'Coding Language'}]   \n",
       "9998          True  [{'name': 'Python', 'category': 'Coding Langua...   \n",
       "9999          True                                                 []   \n",
       "\n",
       "                                         optionalSkills  \n",
       "9995   [{'name': 'C++', 'category': 'Coding Language'}]  \n",
       "9996   [{'name': 'C++', 'category': 'Coding Language'}]  \n",
       "9997      [{'name': 'English', 'category': 'Language'}]  \n",
       "9998  [{'name': 'Scala', 'category': 'Coding Languag...  \n",
       "9999     [{'name': 'R', 'category': 'Coding Language'}]  "
      ]
     },
     "execution_count": 2,
     "metadata": {},
     "output_type": "execute_result"
    }
   ],
   "source": [
    "# read data\n",
    "df = pd.read_json('planning.json')\n",
    "df.tail()"
   ]
  },
  {
   "cell_type": "code",
   "execution_count": 3,
   "id": "aa4ce566",
   "metadata": {},
   "outputs": [
    {
     "data": {
      "text/plain": [
       "id                   int64\n",
       "originalId          object\n",
       "talentId            object\n",
       "talentName          object\n",
       "talentGrade         object\n",
       "bookingGrade        object\n",
       "operatingUnit       object\n",
       "officeCity          object\n",
       "officePostalCode     int64\n",
       "jobManagerName      object\n",
       "jobManagerId        object\n",
       "totalHours           int64\n",
       "startDate           object\n",
       "endDate             object\n",
       "clientName          object\n",
       "clientId            object\n",
       "industry            object\n",
       "isUnassigned          bool\n",
       "requiredSkills      object\n",
       "optionalSkills      object\n",
       "dtype: object"
      ]
     },
     "execution_count": 3,
     "metadata": {},
     "output_type": "execute_result"
    }
   ],
   "source": [
    "# check types\n",
    "df.dtypes"
   ]
  },
  {
   "cell_type": "code",
   "execution_count": 4,
   "id": "72b999d2",
   "metadata": {},
   "outputs": [
    {
     "data": {
      "text/html": [
       "<div>\n",
       "<style scoped>\n",
       "    .dataframe tbody tr th:only-of-type {\n",
       "        vertical-align: middle;\n",
       "    }\n",
       "\n",
       "    .dataframe tbody tr th {\n",
       "        vertical-align: top;\n",
       "    }\n",
       "\n",
       "    .dataframe thead th {\n",
       "        text-align: right;\n",
       "    }\n",
       "</style>\n",
       "<table border=\"1\" class=\"dataframe\">\n",
       "  <thead>\n",
       "    <tr style=\"text-align: right;\">\n",
       "      <th></th>\n",
       "      <th>id</th>\n",
       "      <th>officePostalCode</th>\n",
       "      <th>totalHours</th>\n",
       "    </tr>\n",
       "  </thead>\n",
       "  <tbody>\n",
       "    <tr>\n",
       "      <th>count</th>\n",
       "      <td>10000.00000</td>\n",
       "      <td>10000.000000</td>\n",
       "      <td>10000.000000</td>\n",
       "    </tr>\n",
       "    <tr>\n",
       "      <th>mean</th>\n",
       "      <td>5000.50000</td>\n",
       "      <td>50180.137600</td>\n",
       "      <td>24.029900</td>\n",
       "    </tr>\n",
       "    <tr>\n",
       "      <th>std</th>\n",
       "      <td>2886.89568</td>\n",
       "      <td>29901.202555</td>\n",
       "      <td>9.200884</td>\n",
       "    </tr>\n",
       "    <tr>\n",
       "      <th>min</th>\n",
       "      <td>1.00000</td>\n",
       "      <td>130.000000</td>\n",
       "      <td>8.000000</td>\n",
       "    </tr>\n",
       "    <tr>\n",
       "      <th>25%</th>\n",
       "      <td>2500.75000</td>\n",
       "      <td>23233.000000</td>\n",
       "      <td>16.000000</td>\n",
       "    </tr>\n",
       "    <tr>\n",
       "      <th>50%</th>\n",
       "      <td>5000.50000</td>\n",
       "      <td>50773.000000</td>\n",
       "      <td>24.000000</td>\n",
       "    </tr>\n",
       "    <tr>\n",
       "      <th>75%</th>\n",
       "      <td>7500.25000</td>\n",
       "      <td>75898.000000</td>\n",
       "      <td>32.000000</td>\n",
       "    </tr>\n",
       "    <tr>\n",
       "      <th>max</th>\n",
       "      <td>10000.00000</td>\n",
       "      <td>99833.000000</td>\n",
       "      <td>40.000000</td>\n",
       "    </tr>\n",
       "  </tbody>\n",
       "</table>\n",
       "</div>"
      ],
      "text/plain": [
       "                id  officePostalCode    totalHours\n",
       "count  10000.00000      10000.000000  10000.000000\n",
       "mean    5000.50000      50180.137600     24.029900\n",
       "std     2886.89568      29901.202555      9.200884\n",
       "min        1.00000        130.000000      8.000000\n",
       "25%     2500.75000      23233.000000     16.000000\n",
       "50%     5000.50000      50773.000000     24.000000\n",
       "75%     7500.25000      75898.000000     32.000000\n",
       "max    10000.00000      99833.000000     40.000000"
      ]
     },
     "execution_count": 4,
     "metadata": {},
     "output_type": "execute_result"
    }
   ],
   "source": [
    "# check interesting values (only numerical)\n",
    "df.describe()"
   ]
  },
  {
   "cell_type": "code",
   "execution_count": 5,
   "id": "6642bca0",
   "metadata": {},
   "outputs": [],
   "source": [
    "# replace empty entries with nan\n",
    "df = df.replace(r'^\\s*$', np.nan, regex=True)"
   ]
  },
  {
   "cell_type": "code",
   "execution_count": 6,
   "id": "5b5bc5cb",
   "metadata": {},
   "outputs": [
    {
     "data": {
      "text/plain": [
       "id                     0\n",
       "originalId             0\n",
       "talentId            2030\n",
       "talentName          2030\n",
       "talentGrade         2030\n",
       "bookingGrade        7970\n",
       "operatingUnit          0\n",
       "officeCity             0\n",
       "officePostalCode       0\n",
       "jobManagerName         0\n",
       "jobManagerId           0\n",
       "totalHours             0\n",
       "startDate              0\n",
       "endDate                0\n",
       "clientName             0\n",
       "clientId               0\n",
       "industry               0\n",
       "isUnassigned           0\n",
       "requiredSkills         0\n",
       "optionalSkills         0\n",
       "dtype: int64"
      ]
     },
     "execution_count": 6,
     "metadata": {},
     "output_type": "execute_result"
    }
   ],
   "source": [
    "# check nan values\n",
    "df.isna().sum()"
   ]
  },
  {
   "cell_type": "markdown",
   "id": "740d9f79",
   "metadata": {},
   "source": [
    "## In-depth statistics"
   ]
  },
  {
   "cell_type": "code",
   "execution_count": 7,
   "id": "2dae983f",
   "metadata": {},
   "outputs": [
    {
     "data": {
      "text/plain": [
       "0                  NaN\n",
       "1       Lead Associate\n",
       "2                  NaN\n",
       "3                  NaN\n",
       "4                  NaN\n",
       "             ...      \n",
       "9995               NaN\n",
       "9996               NaN\n",
       "9997         Associate\n",
       "9998    Senior Manager\n",
       "9999         Associate\n",
       "Name: bookingGrade, Length: 10000, dtype: object"
      ]
     },
     "execution_count": 7,
     "metadata": {},
     "output_type": "execute_result"
    }
   ],
   "source": [
    "# get column for in-depth statistics\n",
    "bg = df.bookingGrade\n",
    "bg"
   ]
  },
  {
   "cell_type": "code",
   "execution_count": 8,
   "id": "55e5e736",
   "metadata": {
    "scrolled": true
   },
   "outputs": [
    {
     "data": {
      "text/plain": [
       "Manager             361\n",
       "Senior Manager      359\n",
       "Lead Associate      345\n",
       "Intern              327\n",
       "Associate           325\n",
       "Senior Associate    313\n",
       "Name: bookingGrade, dtype: int64"
      ]
     },
     "execution_count": 8,
     "metadata": {},
     "output_type": "execute_result"
    }
   ],
   "source": [
    "# see the different values including their count (without nan values)\n",
    "bg.value_counts()"
   ]
  },
  {
   "cell_type": "code",
   "execution_count": 9,
   "id": "7c4b3545",
   "metadata": {},
   "outputs": [
    {
     "data": {
      "text/plain": [
       "<AxesSubplot:>"
      ]
     },
     "execution_count": 9,
     "metadata": {},
     "output_type": "execute_result"
    },
    {
     "data": {
      "image/png": "[encoded data removed]",
      "text/plain": [
       "<Figure size 864x576 with 1 Axes>"
      ]
     },
     "metadata": {
      "needs_background": "light"
     },
     "output_type": "display_data"
    }
   ],
   "source": [
    "# histogram\n",
    "bg.hist(figsize=(12,8),align='left')"
   ]
  },
  {
   "cell_type": "markdown",
   "id": "fc20119e",
   "metadata": {},
   "source": [
    "## Noteworthy"
   ]
  },
  {
   "cell_type": "markdown",
   "id": "4e93693c",
   "metadata": {},
   "source": [
    "There are a lot of nan values for the booking grade (as seen in Overview -> check nan values)."
   ]
  }
 ],
 "metadata": {
  "kernelspec": {
   "display_name": "Python 3 (ipykernel)",
   "language": "python",
   "name": "python3"
  },
  "language_info": {
   "codemirror_mode": {
    "name": "ipython",
    "version": 3
   },
   "file_extension": ".py",
   "mimetype": "text/x-python",
   "name": "python",
   "nbconvert_exporter": "python",
   "pygments_lexer": "ipython3",
   "version": "3.8.12"
  }
 },
 "nbformat": 4,
 "nbformat_minor": 5
}
